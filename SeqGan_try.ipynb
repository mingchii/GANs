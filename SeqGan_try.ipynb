{
  "nbformat": 4,
  "nbformat_minor": 0,
  "metadata": {
    "colab": {
      "name": "SeqGan_try",
      "provenance": [],
      "toc_visible": true,
      "include_colab_link": true
    },
    "kernelspec": {
      "name": "python2",
      "display_name": "Python 2"
    },
    "accelerator": "GPU"
  },
  "cells": [
    {
      "cell_type": "markdown",
      "metadata": {
        "id": "view-in-github",
        "colab_type": "text"
      },
      "source": [
        "<a href=\"https://colab.research.google.com/github/mingchii/GANs-on-limit-order-book/blob/master/SeqGan_try.ipynb\" target=\"_parent\"><img src=\"https://colab.research.google.com/assets/colab-badge.svg\" alt=\"Open In Colab\"/></a>"
      ]
    },
    {
      "cell_type": "code",
      "metadata": {
        "id": "T44xInoSn8Yc",
        "colab_type": "code",
        "outputId": "3c29f265-aa8b-4e77-c85a-32c1336efedf",
        "colab": {
          "base_uri": "https://localhost:8080/",
          "height": 124
        }
      },
      "source": [
        "from google.colab import drive\n",
        "drive.mount('/content/gdrive')"
      ],
      "execution_count": 0,
      "outputs": [
        {
          "output_type": "stream",
          "text": [
            "Go to this URL in a browser: https://accounts.google.com/o/oauth2/auth?client_id=947318989803-6bn6qk8qdgf4n4g3pfee6491hc0brc4i.apps.googleusercontent.com&redirect_uri=urn%3aietf%3awg%3aoauth%3a2.0%3aoob&response_type=code&scope=email%20https%3a%2f%2fwww.googleapis.com%2fauth%2fdocs.test%20https%3a%2f%2fwww.googleapis.com%2fauth%2fdrive%20https%3a%2f%2fwww.googleapis.com%2fauth%2fdrive.photos.readonly%20https%3a%2f%2fwww.googleapis.com%2fauth%2fpeopleapi.readonly\n",
            "\n",
            "Enter your authorization code:\n",
            "··········\n",
            "Mounted at /content/gdrive\n"
          ],
          "name": "stdout"
        }
      ]
    },
    {
      "cell_type": "code",
      "metadata": {
        "id": "-Uz_j1ntpqvO",
        "colab_type": "code",
        "outputId": "a2db0356-2137-420f-902c-14e648392348",
        "colab": {
          "base_uri": "https://localhost:8080/",
          "height": 52
        }
      },
      "source": [
        "%cd /content/gdrive/My\\ Drive/FinTech\\ Group\\ 3\\ MEng/SeqGAN\n",
        "!pwd"
      ],
      "execution_count": 0,
      "outputs": [
        {
          "output_type": "stream",
          "text": [
            "/content/gdrive/My Drive/FinTech Group 3 MEng/SeqGAN\n",
            "/content/gdrive/My Drive/FinTech Group 3 MEng/SeqGAN\n"
          ],
          "name": "stdout"
        }
      ]
    },
    {
      "cell_type": "code",
      "metadata": {
        "id": "j9P1nSSlp4w_",
        "colab_type": "code",
        "outputId": "2120353e-2ee6-4aff-8d49-940bd7875224",
        "colab": {
          "base_uri": "https://localhost:8080/",
          "height": 1000
        }
      },
      "source": [
        "!python sequence_gan.py"
      ],
      "execution_count": 0,
      "outputs": [
        {
          "output_type": "stream",
          "text": [
            "WARNING: Logging before flag parsing goes to stderr.\n",
            "W0226 22:56:37.953077 140386155882368 module_wrapper.py:139] From /content/gdrive/My Drive/FinTech Group 3 MEng/SeqGAN/generator.py:24: The name tf.variable_scope is deprecated. Please use tf.compat.v1.variable_scope instead.\n",
            "\n",
            "W0226 22:56:37.953417 140386155882368 module_wrapper.py:139] From /content/gdrive/My Drive/FinTech Group 3 MEng/SeqGAN/generator.py:129: The name tf.random_normal is deprecated. Please use tf.random.normal instead.\n",
            "\n",
            "W0226 22:56:38.089282 140386155882368 module_wrapper.py:139] From /content/gdrive/My Drive/FinTech Group 3 MEng/SeqGAN/generator.py:31: The name tf.placeholder is deprecated. Please use tf.compat.v1.placeholder instead.\n",
            "\n",
            "W0226 22:56:38.138746 140386155882368 module_wrapper.py:139] From /content/gdrive/My Drive/FinTech Group 3 MEng/SeqGAN/generator.py:50: The name tf.log is deprecated. Please use tf.math.log instead.\n",
            "\n",
            "W0226 22:56:38.139801 140386155882368 deprecation.py:323] From /content/gdrive/My Drive/FinTech Group 3 MEng/SeqGAN/generator.py:51: multinomial (from tensorflow.python.ops.random_ops) is deprecated and will be removed in a future version.\n",
            "Instructions for updating:\n",
            "Use `tf.random.categorical` instead.\n",
            "W0226 22:56:38.247217 140386155882368 deprecation.py:323] From /content/gdrive/My Drive/FinTech Group 3 MEng/SeqGAN/generator.py:94: to_int32 (from tensorflow.python.ops.math_ops) is deprecated and will be removed in a future version.\n",
            "Instructions for updating:\n",
            "Use `tf.cast` instead.\n",
            "W0226 22:56:38.254679 140386155882368 module_wrapper.py:139] From /content/gdrive/My Drive/FinTech Group 3 MEng/SeqGAN/generator.py:209: The name tf.train.AdamOptimizer is deprecated. Please use tf.compat.v1.train.AdamOptimizer instead.\n",
            "\n",
            "W0226 22:56:38.283255 140386155882368 deprecation.py:323] From /usr/local/lib/python2.7/dist-packages/tensorflow_core/python/ops/math_grad.py:1424: where (from tensorflow.python.ops.array_ops) is deprecated and will be removed in a future version.\n",
            "Instructions for updating:\n",
            "Use tf.where in 2.0, which has the same broadcast rule as np.where\n",
            "W0226 22:56:39.536241 140386155882368 module_wrapper.py:139] From /content/gdrive/My Drive/FinTech Group 3 MEng/SeqGAN/target_lstm.py:17: The name tf.set_random_seed is deprecated. Please use tf.compat.v1.set_random_seed instead.\n",
            "\n",
            "W0226 22:56:39.688756 140386155882368 module_wrapper.py:139] From /content/gdrive/My Drive/FinTech Group 3 MEng/SeqGAN/discriminator.py:74: The name tf.random_uniform is deprecated. Please use tf.random.uniform instead.\n",
            "\n",
            "W0226 22:56:39.695492 140386155882368 module_wrapper.py:139] From /content/gdrive/My Drive/FinTech Group 3 MEng/SeqGAN/discriminator.py:85: The name tf.truncated_normal is deprecated. Please use tf.random.truncated_normal instead.\n",
            "\n",
            "W0226 22:56:39.712963 140386155882368 module_wrapper.py:139] From /content/gdrive/My Drive/FinTech Group 3 MEng/SeqGAN/discriminator.py:96: The name tf.nn.max_pool is deprecated. Please use tf.nn.max_pool2d instead.\n",
            "\n",
            "W0226 22:56:39.797672 140386155882368 module_wrapper.py:139] From /content/gdrive/My Drive/FinTech Group 3 MEng/SeqGAN/discriminator.py:29: The name tf.get_variable is deprecated. Please use tf.compat.v1.get_variable instead.\n",
            "\n",
            "W0226 22:56:39.827259 140386155882368 deprecation.py:506] From /content/gdrive/My Drive/FinTech Group 3 MEng/SeqGAN/discriminator.py:115: calling dropout (from tensorflow.python.ops.nn_ops) with keep_prob is deprecated and will be removed in a future version.\n",
            "Instructions for updating:\n",
            "Please use `rate` instead of `keep_prob`. Rate should be set to `rate = 1 - keep_prob`.\n",
            "W0226 22:56:39.841751 140386155882368 module_wrapper.py:139] From /content/gdrive/My Drive/FinTech Group 3 MEng/SeqGAN/discriminator.py:123: The name tf.nn.xw_plus_b is deprecated. Please use tf.compat.v1.nn.xw_plus_b instead.\n",
            "\n",
            "W0226 22:56:39.844206 140386155882368 deprecation.py:323] From /content/gdrive/My Drive/FinTech Group 3 MEng/SeqGAN/discriminator.py:129: softmax_cross_entropy_with_logits (from tensorflow.python.ops.nn_ops) is deprecated and will be removed in a future version.\n",
            "Instructions for updating:\n",
            "\n",
            "Future major versions of TensorFlow will allow gradients to flow\n",
            "into the labels input on backprop by default.\n",
            "\n",
            "See `tf.nn.softmax_cross_entropy_with_logits_v2`.\n",
            "\n",
            "W0226 22:56:39.867619 140386155882368 module_wrapper.py:139] From /content/gdrive/My Drive/FinTech Group 3 MEng/SeqGAN/discriminator.py:132: The name tf.trainable_variables is deprecated. Please use tf.compat.v1.trainable_variables instead.\n",
            "\n",
            "W0226 22:56:40.357542 140386155882368 module_wrapper.py:139] From sequence_gan.py:98: The name tf.ConfigProto is deprecated. Please use tf.compat.v1.ConfigProto instead.\n",
            "\n",
            "W0226 22:56:40.357780 140386155882368 module_wrapper.py:139] From sequence_gan.py:100: The name tf.Session is deprecated. Please use tf.compat.v1.Session instead.\n",
            "\n",
            "2020-02-26 22:56:40.381216: I tensorflow/core/platform/profile_utils/cpu_utils.cc:94] CPU Frequency: 2300000000 Hz\n",
            "2020-02-26 22:56:40.381446: I tensorflow/compiler/xla/service/service.cc:168] XLA service 0x55d85a0c5480 initialized for platform Host (this does not guarantee that XLA will be used). Devices:\n",
            "2020-02-26 22:56:40.381480: I tensorflow/compiler/xla/service/service.cc:176]   StreamExecutor device (0): Host, Default Version\n",
            "2020-02-26 22:56:40.386594: I tensorflow/stream_executor/platform/default/dso_loader.cc:44] Successfully opened dynamic library libcuda.so.1\n",
            "2020-02-26 22:56:40.590006: I tensorflow/stream_executor/cuda/cuda_gpu_executor.cc:983] successful NUMA node read from SysFS had negative value (-1), but there must be at least one NUMA node, so returning NUMA node zero\n",
            "2020-02-26 22:56:40.590732: I tensorflow/compiler/xla/service/service.cc:168] XLA service 0x55d85a0c5d40 initialized for platform CUDA (this does not guarantee that XLA will be used). Devices:\n",
            "2020-02-26 22:56:40.590762: I tensorflow/compiler/xla/service/service.cc:176]   StreamExecutor device (0): Tesla T4, Compute Capability 7.5\n",
            "2020-02-26 22:56:40.591847: I tensorflow/stream_executor/cuda/cuda_gpu_executor.cc:983] successful NUMA node read from SysFS had negative value (-1), but there must be at least one NUMA node, so returning NUMA node zero\n",
            "2020-02-26 22:56:40.592403: I tensorflow/core/common_runtime/gpu/gpu_device.cc:1618] Found device 0 with properties: \n",
            "name: Tesla T4 major: 7 minor: 5 memoryClockRate(GHz): 1.59\n",
            "pciBusID: 0000:00:04.0\n",
            "2020-02-26 22:56:40.604423: I tensorflow/stream_executor/platform/default/dso_loader.cc:44] Successfully opened dynamic library libcudart.so.10.1\n",
            "2020-02-26 22:56:40.859462: I tensorflow/stream_executor/platform/default/dso_loader.cc:44] Successfully opened dynamic library libcublas.so.10\n",
            "2020-02-26 22:56:40.979551: I tensorflow/stream_executor/platform/default/dso_loader.cc:44] Successfully opened dynamic library libcufft.so.10\n",
            "2020-02-26 22:56:41.009053: I tensorflow/stream_executor/platform/default/dso_loader.cc:44] Successfully opened dynamic library libcurand.so.10\n",
            "2020-02-26 22:56:41.272398: I tensorflow/stream_executor/platform/default/dso_loader.cc:44] Successfully opened dynamic library libcusolver.so.10\n",
            "2020-02-26 22:56:41.304659: I tensorflow/stream_executor/platform/default/dso_loader.cc:44] Successfully opened dynamic library libcusparse.so.10\n",
            "2020-02-26 22:56:41.800821: I tensorflow/stream_executor/platform/default/dso_loader.cc:44] Successfully opened dynamic library libcudnn.so.7\n",
            "2020-02-26 22:56:41.801012: I tensorflow/stream_executor/cuda/cuda_gpu_executor.cc:983] successful NUMA node read from SysFS had negative value (-1), but there must be at least one NUMA node, so returning NUMA node zero\n",
            "2020-02-26 22:56:41.801719: I tensorflow/stream_executor/cuda/cuda_gpu_executor.cc:983] successful NUMA node read from SysFS had negative value (-1), but there must be at least one NUMA node, so returning NUMA node zero\n",
            "2020-02-26 22:56:41.802242: I tensorflow/core/common_runtime/gpu/gpu_device.cc:1746] Adding visible gpu devices: 0\n",
            "2020-02-26 22:56:41.805207: I tensorflow/stream_executor/platform/default/dso_loader.cc:44] Successfully opened dynamic library libcudart.so.10.1\n",
            "2020-02-26 22:56:41.806333: I tensorflow/core/common_runtime/gpu/gpu_device.cc:1159] Device interconnect StreamExecutor with strength 1 edge matrix:\n",
            "2020-02-26 22:56:41.806361: I tensorflow/core/common_runtime/gpu/gpu_device.cc:1165]      0 \n",
            "2020-02-26 22:56:41.806371: I tensorflow/core/common_runtime/gpu/gpu_device.cc:1178] 0:   N \n",
            "2020-02-26 22:56:41.807357: I tensorflow/stream_executor/cuda/cuda_gpu_executor.cc:983] successful NUMA node read from SysFS had negative value (-1), but there must be at least one NUMA node, so returning NUMA node zero\n",
            "2020-02-26 22:56:41.807936: I tensorflow/stream_executor/cuda/cuda_gpu_executor.cc:983] successful NUMA node read from SysFS had negative value (-1), but there must be at least one NUMA node, so returning NUMA node zero\n",
            "2020-02-26 22:56:41.808466: I tensorflow/core/common_runtime/gpu/gpu_device.cc:1304] Created TensorFlow device (/job:localhost/replica:0/task:0/device:GPU:0 with 14221 MB memory) -> physical GPU (device: 0, name: Tesla T4, pci bus id: 0000:00:04.0, compute capability: 7.5)\n",
            "W0226 22:56:41.809151 140386155882368 module_wrapper.py:139] From sequence_gan.py:101: The name tf.global_variables_initializer is deprecated. Please use tf.compat.v1.global_variables_initializer instead.\n",
            "\n",
            "2020-02-26 22:56:48.893225: I tensorflow/stream_executor/platform/default/dso_loader.cc:44] Successfully opened dynamic library libcublas.so.10\n",
            "Start pre-training...\n",
            "pre-train epoch  0 test_loss  10.208994\n",
            "pre-train epoch  5 test_loss  9.475753\n",
            "pre-train epoch  10 test_loss  9.307005\n",
            "pre-train epoch  15 test_loss  9.219212\n",
            "pre-train epoch  20 test_loss  9.174706\n",
            "pre-train epoch  25 test_loss  9.134478\n",
            "pre-train epoch  30 test_loss  9.146135\n",
            "pre-train epoch  35 test_loss  9.143927\n",
            "pre-train epoch  40 test_loss  9.138596\n",
            "pre-train epoch  45 test_loss  9.134765\n",
            "pre-train epoch  50 test_loss  9.132745\n",
            "pre-train epoch  55 test_loss  9.145903\n",
            "pre-train epoch  60 test_loss  9.1356945\n"
          ],
          "name": "stdout"
        }
      ]
    },
    {
      "cell_type": "code",
      "metadata": {
        "id": "ar0_q5lvp-Pn",
        "colab_type": "code",
        "outputId": "3c5c6810-d5f8-4ecb-9683-531caa0b1f88",
        "colab": {
          "base_uri": "https://localhost:8080/",
          "height": 35
        }
      },
      "source": [
        ""
      ],
      "execution_count": 0,
      "outputs": [
        {
          "output_type": "stream",
          "text": [
            "/content\n"
          ],
          "name": "stdout"
        }
      ]
    },
    {
      "cell_type": "code",
      "metadata": {
        "id": "6OH54cY8ryRC",
        "colab_type": "code",
        "colab": {}
      },
      "source": [
        ""
      ],
      "execution_count": 0,
      "outputs": []
    }
  ]
}